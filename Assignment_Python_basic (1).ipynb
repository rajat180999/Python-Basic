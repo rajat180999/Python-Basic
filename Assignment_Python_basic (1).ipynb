{
  "nbformat": 4,
  "nbformat_minor": 0,
  "metadata": {
    "colab": {
      "provenance": []
    },
    "kernelspec": {
      "name": "python3",
      "display_name": "Python 3"
    },
    "language_info": {
      "name": "python"
    }
  },
  "cells": [
    {
      "cell_type": "markdown",
      "source": [
        "# **`Python Basics Questions`**"
      ],
      "metadata": {
        "id": "85TjEEoO_gRQ"
      }
    },
    {
      "cell_type": "markdown",
      "source": [
        "1. What is Python, and why is it popular?\n",
        "\n",
        "Ans 1) Python is a programming language that's easy to read and write. It uses simple words and not a lot of complicated symbols.\n",
        "\n",
        "It's very popular because you can use it for many different things, like building websites, analyzing data, or creating games. It also has a lot of pre-written code you can use, so you don't have to start everything from scratch. This makes it a great language for people who are just starting out."
      ],
      "metadata": {
        "id": "KkpBznftAvMn"
      }
    },
    {
      "cell_type": "markdown",
      "source": [
        "2. What is an interpreter in Python?\n",
        "\n",
        "Ans 2) An interpreter in Python is a program that directly executes code written in Python, line by line. It translates the human-readable Python code into machine code that the computer's hardware can understand and run.\n",
        "\n"
      ],
      "metadata": {
        "id": "mDueB7WqBRNV"
      }
    },
    {
      "cell_type": "markdown",
      "source": [
        "3. What are pre-defined keywords in Python?\n",
        "\n",
        "Ans 3) Python's pre-defined keywords are special, reserved words that have specific meanings and functions in the language. They can't be used for anything else, like naming variables or functions. They are the building blocks that define the syntax and structure of Python. Examples include if, else, for, def, and True."
      ],
      "metadata": {
        "id": "dqycZOWsGj3i"
      }
    },
    {
      "cell_type": "markdown",
      "source": [
        "4. Can keywords be used as variable names ?\n",
        "\n",
        "Ans 4) No, keywords cannot be used as variable names in Python."
      ],
      "metadata": {
        "id": "7xybYXxPIQcy"
      }
    },
    {
      "cell_type": "markdown",
      "source": [
        "5. What is mutability in Python ?\n",
        "\n",
        "Ans 5) Mutability in Python refers to whether an object's state can be changed after it's created. In simpler terms, a mutable object can be modified in place, while an immutable object cannot."
      ],
      "metadata": {
        "id": "GmCVQM80Ij9B"
      }
    },
    {
      "cell_type": "markdown",
      "source": [
        "6. Why are lists mutable, but tuples are immutable ?\n",
        "\n",
        "Ans 6) Lists are mutable because they're designed for dynamic operations where you need to add, remove, or change elements after creation. Tuples are immutable because they are meant to be a fixed, unchanging sequence of data.\n",
        "\n",
        "\n",
        "\n"
      ],
      "metadata": {
        "id": "wguBm8LCI_02"
      }
    },
    {
      "cell_type": "markdown",
      "source": [
        "7. What is the difference between “==” and “is” operators in Python ?\n",
        "\n",
        "Ans 7) The difference between the == and is operators in Python is that == checks for equality of value, while is checks for identity of objects.\n"
      ],
      "metadata": {
        "id": "RdX3PFZhJeG5"
      }
    },
    {
      "cell_type": "markdown",
      "source": [
        "8. What are logical operators in Python ?\n",
        "\n",
        "Ans 8) Logical operators in Python are used to combine or modify boolean values (True or False). There are three main types: and, or, and not. The and operator returns True only if both of the conditions it joins are true. The or operator returns True if at least one of the conditions is true. The not operator reverses the boolean value of a condition. For example, if a condition is True, not makes it False.\n",
        "\n",
        "\n",
        "\n"
      ],
      "metadata": {
        "id": "CjUeTB8sJ08g"
      }
    },
    {
      "cell_type": "markdown",
      "source": [
        "9. What is type casting in Python ?\n",
        "\n",
        "Ans 9) ype casting in Python is the process of converting a value from one data type to another. This is essential when you need to change a variable's type to perform specific operations, such as converting a string like \"10\" into an integer to use it in a calculation. Python provides several built-in functions for this, including int(), float(), and str()."
      ],
      "metadata": {
        "id": "eRXpKufALkzI"
      }
    },
    {
      "cell_type": "markdown",
      "source": [
        "10. What is the difference between implicit and explicit type casting ?\n",
        "\n",
        "Ans 10) Implicit type casting is an automatic conversion by Python, where a lower data type is converted to a higher one to prevent data loss, such as when an integer is converted to a float during addition. Explicit type casting, on the other hand, is a manual conversion performed by the programmer using built-in functions like int() or str(), for example, converting a string \"10\" to an integer. The key difference is that implicit conversion is handled by the interpreter, while explicit conversion is forced by the programmer."
      ],
      "metadata": {
        "id": "sWf7Q9NSMHiz"
      }
    },
    {
      "cell_type": "markdown",
      "source": [
        "11. What is the purpose of conditional statements in Python ?\n",
        "\n",
        "Ans 11) Conditional statements in Python serve the purpose of controlling the flow of a program's execution by allowing it to make decisions. They check whether a specific condition evaluates to True or False, and based on that outcome, they execute a different block of code. This branching logic is crucial for creating dynamic programs that can respond to various inputs and scenarios. For example, using an if-else statement, you can check if a person is old enough to vote: age = 17; if age >= 18: print(\"You are eligible to vote.\") else: print(\"You are not eligible to vote.\"). In this case, the condition age >= 18 is False, so the program will execute the code in the else block, printing \"You are not eligible to vote.\""
      ],
      "metadata": {
        "id": "PXL3M5PgNbrx"
      }
    },
    {
      "cell_type": "markdown",
      "source": [
        "12.  How does the elif statement work ?\n",
        "\n",
        "Ans 12) The elif statement in Python is used to check multiple conditions in a sequence. It follows an initial if statement and is checked only if the preceding if or elif conditions are False. Once an elif condition is found to be True, its corresponding code block is executed, and the rest of the conditional chain is skipped. This allows for a more efficient and readable way to handle multiple outcomes. For example, score = 85; if score >= 90: print(\"A\") elif score >= 80: print(\"B\") else: print(\"C\"). Here, since the first condition is False, the elif is checked and finds score >= 80 to be True, so it prints \"B\".\n"
      ],
      "metadata": {
        "id": "DwiDuyPHOY2r"
      }
    },
    {
      "cell_type": "markdown",
      "source": [
        "13. What is the difference between for and while loops ?\n",
        "\n",
        "Ans 13) The main difference between for and while loops is how they determine when to stop. A for loop is designed for iterating over a sequence of items, and it automatically handles the repetition for each item in that sequence. It's best used when you know the number of iterations in advance. For example: for i in [1, 2, 3]: print(i). A while loop, however, continues to execute as long as a specified condition remains True. It's ideal when you don't know how many times the loop needs to run, as the termination depends on a condition being met. For example: count = 0; while count < 3: print(count); count += 1."
      ],
      "metadata": {
        "id": "KQZSm7duQCkP"
      }
    },
    {
      "cell_type": "markdown",
      "source": [
        "14. Describe a scenario where a while loop is more suitable than a for loop.\n",
        "\n",
        "Ans 13) A while loop is more suitable than a for loop when you need to handle processes where the termination condition isn't based on iterating through a fixed collection, but rather on a state change.\n",
        "\n",
        " A great example of this is when you are reading data from a file or a network socket where you don't know the number of lines or packets in advance. The loop can continue as long as there is data to be read. For instance, to read a file line by line, you might write: with open('my_file.txt', 'r') as file: line = file.readline(); while line: print(line.strip()); line = file.readline(). Here, the while loop keeps reading and processing each line until readline() returns an empty string, which signifies the end of the file, making it a perfect fit for an indeterminate number of iterations."
      ],
      "metadata": {
        "id": "SIMlWeluQxJg"
      }
    },
    {
      "cell_type": "markdown",
      "source": [
        "## **`Practical Questions`**"
      ],
      "metadata": {
        "id": "M-kzqG3YRpOw"
      }
    },
    {
      "cell_type": "markdown",
      "source": [
        "1. Write a Python program to print \"Hello, World!\""
      ],
      "metadata": {
        "id": "PbVt8OimSgiK"
      }
    },
    {
      "cell_type": "code",
      "source": [
        "print(\"Hello, World!\")"
      ],
      "metadata": {
        "colab": {
          "base_uri": "https://localhost:8080/"
        },
        "id": "8Fj8xPpDSphg",
        "outputId": "6ac4b18b-7370-40fe-8295-5cc2969006b5"
      },
      "execution_count": null,
      "outputs": [
        {
          "output_type": "stream",
          "name": "stdout",
          "text": [
            "Hello, World!\n"
          ]
        }
      ]
    },
    {
      "cell_type": "markdown",
      "source": [
        "2. Write a Python program that displays your name and age"
      ],
      "metadata": {
        "id": "F9J1JsvMTKla"
      }
    },
    {
      "cell_type": "code",
      "source": [
        "Name =  \"Rajat Pradeep\"\n",
        "Age = 25"
      ],
      "metadata": {
        "id": "pqOiinh8TPg3"
      },
      "execution_count": null,
      "outputs": []
    },
    {
      "cell_type": "code",
      "source": [
        "Name\n"
      ],
      "metadata": {
        "colab": {
          "base_uri": "https://localhost:8080/",
          "height": 36
        },
        "id": "SpR5e5UTTXTo",
        "outputId": "cacd6e4c-0d76-4a31-f212-3bcb669b1c28"
      },
      "execution_count": null,
      "outputs": [
        {
          "output_type": "execute_result",
          "data": {
            "text/plain": [
              "'Rajat Pradeep'"
            ],
            "application/vnd.google.colaboratory.intrinsic+json": {
              "type": "string"
            }
          },
          "metadata": {},
          "execution_count": 8
        }
      ]
    },
    {
      "cell_type": "code",
      "source": [
        "Age"
      ],
      "metadata": {
        "colab": {
          "base_uri": "https://localhost:8080/"
        },
        "id": "V_btIaHnTvHq",
        "outputId": "85d7620c-50dc-430a-fa5b-1718ee0a9513"
      },
      "execution_count": null,
      "outputs": [
        {
          "output_type": "execute_result",
          "data": {
            "text/plain": [
              "25"
            ]
          },
          "metadata": {},
          "execution_count": 9
        }
      ]
    },
    {
      "cell_type": "markdown",
      "source": [
        "3. Write code to print all the pre-defined keywords in Python using the keyword library"
      ],
      "metadata": {
        "id": "ps46qo4YT0kf"
      }
    },
    {
      "cell_type": "code",
      "source": [
        "import keyword\n",
        "\n",
        "# Get the list of all pre-defined keywords\n",
        "all_keywords = keyword.kwlist\n",
        "\n",
        "# Print each keyword\n",
        "for kw in all_keywords:\n",
        "    print(kw)\n",
        "\n",
        "# Get the list of all pre-defined keywords\n",
        "all_keywords = keyword.kwlist\n",
        "\n",
        "# Print each keyword\n",
        "for kw in all_keywords:\n",
        "    print(kw)"
      ],
      "metadata": {
        "colab": {
          "base_uri": "https://localhost:8080/"
        },
        "id": "jYtFmLCuVESp",
        "outputId": "52515ed4-a0cf-4778-f235-108d5f95a3c3"
      },
      "execution_count": 4,
      "outputs": [
        {
          "output_type": "stream",
          "name": "stdout",
          "text": [
            "False\n",
            "None\n",
            "True\n",
            "and\n",
            "as\n",
            "assert\n",
            "async\n",
            "await\n",
            "break\n",
            "class\n",
            "continue\n",
            "def\n",
            "del\n",
            "elif\n",
            "else\n",
            "except\n",
            "finally\n",
            "for\n",
            "from\n",
            "global\n",
            "if\n",
            "import\n",
            "in\n",
            "is\n",
            "lambda\n",
            "nonlocal\n",
            "not\n",
            "or\n",
            "pass\n",
            "raise\n",
            "return\n",
            "try\n",
            "while\n",
            "with\n",
            "yield\n",
            "False\n",
            "None\n",
            "True\n",
            "and\n",
            "as\n",
            "assert\n",
            "async\n",
            "await\n",
            "break\n",
            "class\n",
            "continue\n",
            "def\n",
            "del\n",
            "elif\n",
            "else\n",
            "except\n",
            "finally\n",
            "for\n",
            "from\n",
            "global\n",
            "if\n",
            "import\n",
            "in\n",
            "is\n",
            "lambda\n",
            "nonlocal\n",
            "not\n",
            "or\n",
            "pass\n",
            "raise\n",
            "return\n",
            "try\n",
            "while\n",
            "with\n",
            "yield\n"
          ]
        }
      ]
    },
    {
      "cell_type": "markdown",
      "source": [
        "4. Write a program that checks if a given word is a Python keyword."
      ],
      "metadata": {
        "id": "BbuRIQlIWfOi"
      }
    },
    {
      "cell_type": "code",
      "source": [
        "import keyword\n",
        "\n",
        "word = input(\"Enter a word: \")\n",
        "\n",
        "if keyword.iskeyword(word):\n",
        "    print(f\"'{word}' is a Python keyword.\")\n",
        "else:\n",
        "    print(f\"'{word}' is NOT a Python keyword.\")"
      ],
      "metadata": {
        "colab": {
          "base_uri": "https://localhost:8080/"
        },
        "id": "QdGSKM37WbBF",
        "outputId": "a41fac06-f2b7-4955-ad89-4d855bb24ffb"
      },
      "execution_count": null,
      "outputs": [
        {
          "output_type": "stream",
          "name": "stdout",
          "text": [
            "Enter a word: def\n",
            "'def' is a Python keyword.\n"
          ]
        }
      ]
    },
    {
      "cell_type": "markdown",
      "source": [
        " 5. Create a list and tuple in Python, and demonstrate how attempting to change an element works differently\n",
        "for each."
      ],
      "metadata": {
        "id": "0vVtB8isX8PZ"
      }
    },
    {
      "cell_type": "code",
      "source": [
        "# Create a list\n",
        "my_list = [1, 2, 3, 4, 5]\n",
        "\n",
        "# Create a tuple\n",
        "my_tuple = (1, 2, 3, 4, 5)\n",
        "\n",
        "print(f\"Original List: {my_list}\")\n",
        "print(f\"Original Tuple: {my_tuple}\")\n",
        "\n"
      ],
      "metadata": {
        "colab": {
          "base_uri": "https://localhost:8080/"
        },
        "id": "P66zJlqNYBoU",
        "outputId": "5a83968b-057b-4f5e-d35e-3ea87f0fb3a2"
      },
      "execution_count": null,
      "outputs": [
        {
          "output_type": "stream",
          "name": "stdout",
          "text": [
            "Original List: [1, 2, 3, 4, 5]\n",
            "Original Tuple: (1, 2, 3, 4, 5)\n"
          ]
        }
      ]
    },
    {
      "cell_type": "markdown",
      "source": [
        "6. . Write a function to demonstrate the behavior of mutable and immutable arguments."
      ],
      "metadata": {
        "id": "maQPs-s2Z09C"
      }
    },
    {
      "cell_type": "code",
      "source": [
        "def modify_list(my_list):\n",
        "    \"\"\"Appends an element to a list.\"\"\"\n",
        "    my_list.append(99)\n",
        "\n",
        "# Create a list\n",
        "my_original_list = [1, 2, 3]\n",
        "print(f\"Original list: {my_original_list}\")\n",
        "\n",
        "# Modify the list by calling the function\n",
        "modify_list(my_original_list)\n",
        "\n",
        "# Print the list after the function call\n",
        "print(f\"List after function call: {my_original_list}\")"
      ],
      "metadata": {
        "colab": {
          "base_uri": "https://localhost:8080/"
        },
        "id": "aB5o9yLBZ2sK",
        "outputId": "b1a29ee3-3f15-4d05-9b74-ad0f8dab4d94"
      },
      "execution_count": null,
      "outputs": [
        {
          "output_type": "stream",
          "name": "stdout",
          "text": [
            "Original list: [1, 2, 3]\n",
            "List after function call: [1, 2, 3, 99]\n"
          ]
        }
      ]
    },
    {
      "cell_type": "markdown",
      "source": [
        "7. Write a program that performs basic arithmetic operations on two user-input numbers."
      ],
      "metadata": {
        "id": "ClyPr4yMagJt"
      }
    },
    {
      "cell_type": "code",
      "source": [
        "# A short program for basic arithmetic operations.\n",
        "\n",
        "def calculator():\n",
        "    try:\n",
        "        num1 = float(input(\"Enter first number: \"))\n",
        "        num2 = float(input(\"Enter second number: \"))\n",
        "        op = input(\"Enter operation (+, -, *, /): \")\n",
        "\n",
        "        if op == '+':\n",
        "            print(f\"Result: {num1 + num2}\")\n",
        "        elif op == '-':\n",
        "            print(f\"Result: {num1 - num2}\")\n",
        "        elif op == '*':\n",
        "            print(f\"Result: {num1 * num2}\")\n",
        "        elif op == '/':\n",
        "            if num2 == 0:\n",
        "                print(\"Error: Cannot divide by zero.\")\n",
        "            else:\n",
        "                print(f\"Result: {num1 / num2}\")\n",
        "        else:\n",
        "            print(\"Invalid operation.\")\n",
        "\n",
        "    except ValueError:\n",
        "        print(\"Invalid number entered.\")\n",
        "\n",
        "calculator()"
      ],
      "metadata": {
        "colab": {
          "base_uri": "https://localhost:8080/"
        },
        "id": "kffAFEb8ahZN",
        "outputId": "dd71e179-f3df-41fb-ddb4-469478eb94a6"
      },
      "execution_count": null,
      "outputs": [
        {
          "output_type": "stream",
          "name": "stdout",
          "text": [
            "Enter first number: 100\n",
            "Enter second number: 50\n",
            "Enter operation (+, -, *, /): -\n",
            "Result: 50.0\n"
          ]
        }
      ]
    },
    {
      "cell_type": "markdown",
      "source": [
        "8. Write a program to demonstrate the use of logical operators.\n",
        "\n",
        "\n",
        "\n"
      ],
      "metadata": {
        "id": "CcR4DCg8bGgA"
      }
    },
    {
      "cell_type": "code",
      "source": [
        "\n",
        "# Example: True if you are a student AND over 18\n",
        "is_student = True\n",
        "age = 20\n",
        "if is_student and age > 18:\n",
        "    print(\"You meet both conditions.\")"
      ],
      "metadata": {
        "colab": {
          "base_uri": "https://localhost:8080/"
        },
        "id": "DFvJxARebq41",
        "outputId": "7f1450e3-bf03-4e1f-b10b-61a5a3678392"
      },
      "execution_count": null,
      "outputs": [
        {
          "output_type": "stream",
          "name": "stdout",
          "text": [
            "You meet both conditions.\n"
          ]
        }
      ]
    },
    {
      "cell_type": "code",
      "source": [
        "# Example: True if you have a ticket OR are on the guest list\n",
        "has_ticket = False\n",
        "on_guest_list = True\n",
        "if has_ticket or on_guest_list:\n",
        "    print(\"You can enter.\")"
      ],
      "metadata": {
        "colab": {
          "base_uri": "https://localhost:8080/"
        },
        "id": "jhhkA1_9btae",
        "outputId": "3eeb743a-24d8-4835-d471-01b83f026d28"
      },
      "execution_count": null,
      "outputs": [
        {
          "output_type": "stream",
          "name": "stdout",
          "text": [
            "You can enter.\n"
          ]
        }
      ]
    },
    {
      "cell_type": "code",
      "source": [
        "# Example: True if the payment has NOT been processed\n",
        "is_paid = False\n",
        "if not is_paid:\n",
        "    print(\"Payment is pending.\")"
      ],
      "metadata": {
        "colab": {
          "base_uri": "https://localhost:8080/"
        },
        "id": "XpK5ZzDxb8fK",
        "outputId": "11c45276-ba2f-43c6-9e33-675f23ad93b2"
      },
      "execution_count": null,
      "outputs": [
        {
          "output_type": "stream",
          "name": "stdout",
          "text": [
            "Payment is pending.\n"
          ]
        }
      ]
    },
    {
      "cell_type": "markdown",
      "source": [
        "9.  Write a Python program to convert user input from string to integer, float, and boolean types."
      ],
      "metadata": {
        "id": "IKlMtFOmcG7J"
      }
    },
    {
      "cell_type": "code",
      "source": [
        "def convert_user_input():\n",
        "    try:\n",
        "        # Convert to Integer\n",
        "        num_int = int(input(\"Enter a whole number: \"))\n",
        "        print(f\"Integer: {num_int} (Type: {type(num_int)})\")\n",
        "\n",
        "        # Convert to Float\n",
        "        num_float = float(input(\"Enter a decimal number: \"))\n",
        "        print(f\"Float: {num_float} (Type: {type(num_float)})\")\n",
        "\n",
        "        # Convert to Boolean (custom logic for user input)\n",
        "        bool_input = input(\"Enter 'True' or 'False': \").lower()\n",
        "        bool_val = bool_input == 'true'\n",
        "        print(f\"Boolean: {bool_val} (Type: {type(bool_val)})\")\n",
        "\n",
        "    except ValueError:\n",
        "        print(\"Invalid number entered. Please try again.\")\n",
        "\n",
        "convert_user_input()\n"
      ],
      "metadata": {
        "colab": {
          "base_uri": "https://localhost:8080/"
        },
        "id": "oa65UzaHckzy",
        "outputId": "4304282b-07e9-4d77-9691-fd02912c2df6"
      },
      "execution_count": null,
      "outputs": [
        {
          "output_type": "stream",
          "name": "stdout",
          "text": [
            "Enter a whole number: 18\n",
            "Integer: 18 (Type: <class 'int'>)\n",
            "Enter a decimal number: 1.8\n",
            "Float: 1.8 (Type: <class 'float'>)\n",
            "Enter 'True' or 'False': True\n",
            "Boolean: True (Type: <class 'bool'>)\n"
          ]
        }
      ]
    },
    {
      "cell_type": "markdown",
      "source": [
        "10. Write code to demonstrate type casting with list elements"
      ],
      "metadata": {
        "id": "K6_dfbkIdsg7"
      }
    },
    {
      "cell_type": "code",
      "source": [
        "# Initial list of numbers\n",
        "num_list = [100, 200, 300]\n",
        "print(f\"\\nOriginal list (integers): {num_list}\")\n",
        "\n",
        "# Convert all elements to strings using map()\n",
        "str_list = list(map(str, num_list))\n",
        "\n",
        "print(f\"New list (strings): {str_list}\")\n"
      ],
      "metadata": {
        "colab": {
          "base_uri": "https://localhost:8080/"
        },
        "id": "FwZ71EPydt3a",
        "outputId": "2adb0582-b059-418a-d050-b39664cb3052"
      },
      "execution_count": null,
      "outputs": [
        {
          "output_type": "stream",
          "name": "stdout",
          "text": [
            "\n",
            "Original list (integers): [100, 200, 300]\n",
            "New list (strings): ['100', '200', '300']\n"
          ]
        }
      ]
    },
    {
      "cell_type": "markdown",
      "source": [
        "11. Write a program that checks if a number is positive, negative, or zero."
      ],
      "metadata": {
        "id": "fWIRIxCseAMM"
      }
    },
    {
      "cell_type": "code",
      "source": [
        "# A simple program to check the sign of a number\n",
        "\n",
        "number = -10\n",
        "\n",
        "if number > 0:\n",
        "    print(\"The number is positive.\")\n",
        "elif number < 0:\n",
        "    print(\"The number is negative.\")\n",
        "else:  # The only remaining possibility is that the number is 0\n",
        "    print(\"The number is zero.\")"
      ],
      "metadata": {
        "colab": {
          "base_uri": "https://localhost:8080/"
        },
        "id": "tFagTRmleBSD",
        "outputId": "b2a09b55-26eb-4f99-880d-ead063d716de"
      },
      "execution_count": null,
      "outputs": [
        {
          "output_type": "stream",
          "name": "stdout",
          "text": [
            "The number is negative.\n"
          ]
        }
      ]
    },
    {
      "cell_type": "markdown",
      "source": [
        "12. Write a for loop to print numbers from 1 to 10"
      ],
      "metadata": {
        "id": "Nbaxu6OIeR7P"
      }
    },
    {
      "cell_type": "code",
      "source": [
        "for number in range(1, 11):\n",
        "    print(number)"
      ],
      "metadata": {
        "colab": {
          "base_uri": "https://localhost:8080/"
        },
        "id": "l4PRw7cZeTdX",
        "outputId": "e21277b1-839f-46c8-ec65-e417d9895964"
      },
      "execution_count": null,
      "outputs": [
        {
          "output_type": "stream",
          "name": "stdout",
          "text": [
            "1\n",
            "2\n",
            "3\n",
            "4\n",
            "5\n",
            "6\n",
            "7\n",
            "8\n",
            "9\n",
            "10\n"
          ]
        }
      ]
    },
    {
      "cell_type": "markdown",
      "source": [
        "13. Write a Python program to find the sum of all even numbers between 1 and 50"
      ],
      "metadata": {
        "id": "cNFMHjOmej4Z"
      }
    },
    {
      "cell_type": "code",
      "source": [
        "# Initialize a variable to store the sum\n",
        "total_sum = 0\n",
        "\n",
        "# Loop through all numbers from 1 to 50\n",
        "for number in range(1, 51):\n",
        "    # Check if the number is even using the modulo operator (%)\n",
        "    # A number is even if the remainder when divided by 2 is 0\n",
        "    if number % 2 == 0:\n",
        "        total_sum += number  # Add the even number to the sum\n",
        "\n",
        "# Print the final result\n",
        "print(f\"The sum of all even numbers between 1 and 50 is: {total_sum}\")"
      ],
      "metadata": {
        "colab": {
          "base_uri": "https://localhost:8080/"
        },
        "id": "Fg-WIsX-enBs",
        "outputId": "504b2457-e575-4638-a2f7-595c37171b08"
      },
      "execution_count": null,
      "outputs": [
        {
          "output_type": "stream",
          "name": "stdout",
          "text": [
            "The sum of all even numbers between 1 and 50 is: 650\n"
          ]
        }
      ]
    },
    {
      "cell_type": "markdown",
      "source": [
        "14. Write a program to reverse a string using a while loop.\n",
        "\n"
      ],
      "metadata": {
        "id": "2XBGakdUe487"
      }
    },
    {
      "cell_type": "code",
      "source": [
        "def reverse_string(s):\n",
        "    reversed_str = \"\"\n",
        "    index = len(s) - 1\n",
        "    while index >= 0:\n",
        "        reversed_str += s[index]\n",
        "        index -= 1\n",
        "    return reversed_str\n",
        "\n",
        "my_string = input(\"Enter a string: \")\n",
        "print(f\"Reversed string: {reverse_string(my_string)}\")"
      ],
      "metadata": {
        "colab": {
          "base_uri": "https://localhost:8080/"
        },
        "id": "XU-C8pkwe-I7",
        "outputId": "fc335abe-4a32-40fa-cbb9-6ab7e03fad2a"
      },
      "execution_count": null,
      "outputs": [
        {
          "output_type": "stream",
          "name": "stdout",
          "text": [
            "Enter a string: Rajat\n",
            "Reversed string: tajaR\n"
          ]
        }
      ]
    },
    {
      "cell_type": "markdown",
      "source": [
        "15. Write a Python program to calculate the factorial of a number provided by the user using a while loop."
      ],
      "metadata": {
        "id": "CySX3okBfdf5"
      }
    },
    {
      "cell_type": "code",
      "source": [
        "def factorial(n):\n",
        "    if n < 0:\n",
        "        return \"Error: Factorial of a negative number doesn't exist.\"\n",
        "\n",
        "    result = 1\n",
        "    while n > 0:\n",
        "        result *= n\n",
        "        n -= 1\n",
        "    return result\n",
        "\n",
        "try:\n",
        "    num = int(input(\"Enter a non-negative integer: \"))\n",
        "    print(f\"The factorial is: {factorial(num)}\")\n",
        "except ValueError:\n",
        "    print(\"Invalid input.\")"
      ],
      "metadata": {
        "colab": {
          "base_uri": "https://localhost:8080/"
        },
        "id": "qySZBLdGfg_x",
        "outputId": "2aa6513e-600c-4d61-8424-0c548e512d4c"
      },
      "execution_count": null,
      "outputs": [
        {
          "output_type": "stream",
          "name": "stdout",
          "text": [
            "Enter a non-negative integer: 18\n",
            "The factorial is: 6402373705728000\n"
          ]
        }
      ]
    }
  ]
}